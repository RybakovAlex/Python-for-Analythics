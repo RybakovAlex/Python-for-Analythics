{
  "nbformat": 4,
  "nbformat_minor": 0,
  "metadata": {
    "colab": {
      "provenance": [],
      "authorship_tag": "ABX9TyNk5Y6XDWDQ4RJ2itKmFQiu",
      "include_colab_link": true
    },
    "kernelspec": {
      "name": "python3",
      "display_name": "Python 3"
    },
    "language_info": {
      "name": "python"
    }
  },
  "cells": [
    {
      "cell_type": "markdown",
      "metadata": {
        "id": "view-in-github",
        "colab_type": "text"
      },
      "source": [
        "<a href=\"https://colab.research.google.com/github/RybakovAlex/Python-for-Analythics/blob/main/%D0%91%D0%BB%D0%BE%D0%BA%D0%BD%D0%BE%D1%82_%22GB_Homework_1_ipynb%22.ipynb\" target=\"_parent\"><img src=\"https://colab.research.google.com/assets/colab-badge.svg\" alt=\"Open In Colab\"/></a>"
      ]
    },
    {
      "cell_type": "markdown",
      "source": [
        "**Урок 1. Python. Повторение основ**"
      ],
      "metadata": {
        "id": "TjeltisaZdpG"
      }
    },
    {
      "cell_type": "markdown",
      "source": [
        "1. Написать цикл для выведения на экран каждой буквы своего ФИО."
      ],
      "metadata": {
        "id": "lqUR5xvfZECU"
      }
    },
    {
      "cell_type": "code",
      "source": [
        "last_name = input(\"Введите фамилию: \")\n",
        "a = last_name \n",
        "for i in range(len(a)):\n",
        "   print(a[i])"
      ],
      "metadata": {
        "colab": {
          "base_uri": "https://localhost:8080/"
        },
        "id": "B-96uM8tZKGb",
        "outputId": "017503c5-62f8-4b1b-d87a-79a69a4e2c7d"
      },
      "execution_count": null,
      "outputs": [
        {
          "output_type": "stream",
          "name": "stdout",
          "text": [
            "Введите фамилию: Рыбаков\n",
            "Р\n",
            "ы\n",
            "б\n",
            "а\n",
            "к\n",
            "о\n",
            "в\n"
          ]
        }
      ]
    },
    {
      "cell_type": "markdown",
      "source": [
        "2. Написать функцию для перевода доллара в евро c округлением до 2х знаков после запятой, если известно, что текущий курс составляет 1.17 долларов за один евро."
      ],
      "metadata": {
        "id": "VnWatG0etx-J"
      }
    },
    {
      "cell_type": "code",
      "source": [
        "def exchange(usd):\n",
        "    rate = usd/1.17\n",
        "    return rate\n",
        "usd = float(input(\"Введите сумму в долларах: \"))\n",
        "print(\"Сумма перевода в евро = \",'{:.2f}'.format(exchange(usd)))"
      ],
      "metadata": {
        "colab": {
          "base_uri": "https://localhost:8080/"
        },
        "id": "aH7PhTqrt55R",
        "outputId": "a16240be-7c30-447f-db97-68c4937cf7c9"
      },
      "execution_count": null,
      "outputs": [
        {
          "output_type": "stream",
          "name": "stdout",
          "text": [
            "Введите сумму в долларах: 1\n",
            "Сумма перевода в евро =  0.85\n"
          ]
        }
      ]
    },
    {
      "cell_type": "markdown",
      "source": [],
      "metadata": {
        "id": "A3M9gg7ztx0x"
      }
    }
  ]
}